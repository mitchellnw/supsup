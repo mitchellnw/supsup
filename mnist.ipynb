{
 "cells": [
  {
   "cell_type": "markdown",
   "metadata": {},
   "source": [
    "# Supermasks in Superposition: Training and Task Inference\n",
    "\n",
    "<img src=\"images/teaser_supsup.png\">"
   ]
  },
  {
   "cell_type": "code",
   "execution_count": 1,
   "metadata": {
    "tags": []
   },
   "outputs": [],
   "source": [
    "import torch\n",
    "import torch.optim as optim\n",
    "import torch.nn as nn\n",
    "import torch.autograd as autograd\n",
    "import torch.nn.functional as F\n",
    "\n",
    "import torchvision\n",
    "import numpy as np\n",
    "import math\n",
    "\n",
    "from tqdm.notebook import tqdm"
   ]
  },
  {
   "cell_type": "markdown",
   "metadata": {},
   "source": [
    "## Training\n",
    "\n",
    "We train our model using the procedure from \"What's Hidden in a Randomly Weighted Neural Network\" (Ramanujan et al. 2019). Below is a modification of the layers (using signed constant initialization) from this paper for our continual learning setup. As a deviation from this setup, we assume that an edge (u, v) is included in the subnetwork if its score is greater than 0, rather than use it's absolute magnitude to construct a threshold. "
   ]
  },
  {
   "cell_type": "code",
   "execution_count": 9,
   "metadata": {},
   "outputs": [],
   "source": [
    "# Subnetwork forward from hidden networks\n",
    "class GetSubnet(autograd.Function):\n",
    "    @staticmethod\n",
    "    def forward(ctx, scores):\n",
    "        return (scores >= 0).float()\n",
    "\n",
    "    @staticmethod\n",
    "    def backward(ctx, g):\n",
    "        # send the gradient g straight-through on the backward pass.\n",
    "        return g\n",
    "\n",
    "\n",
    "def mask_init(module):\n",
    "    scores = torch.Tensor(module.weight.size())\n",
    "    nn.init.kaiming_uniform_(scores, a=math.sqrt(5))\n",
    "    return scores\n",
    "\n",
    "\n",
    "def signed_constant(module):\n",
    "    fan = nn.init._calculate_correct_fan(module.weight, 'fan_in')\n",
    "    gain = nn.init.calculate_gain('relu')\n",
    "    std = gain / math.sqrt(fan)\n",
    "    module.weight.data = module.weight.data.sign() * std\n",
    "\n",
    "\n",
    "class MultitaskMaskLinear(nn.Linear):\n",
    "    def __init__(self, *args, num_tasks=1, **kwargs):\n",
    "        super().__init__(*args, **kwargs)\n",
    "        self.num_tasks = num_tasks\n",
    "        self.scores = nn.ParameterList(\n",
    "            [\n",
    "                nn.Parameter(mask_init(self))\n",
    "                for _ in range(num_tasks)\n",
    "            ]\n",
    "        )\n",
    "        \n",
    "        # Keep weights untrained\n",
    "        self.weight.requires_grad = False\n",
    "        signed_constant(self)\n",
    "    \n",
    "    @torch.no_grad()\n",
    "    def cache_masks(self):\n",
    "        self.register_buffer(\n",
    "            \"stacked\",\n",
    "            torch.stack(\n",
    "                [\n",
    "                    GetSubnet.apply(self.scores[j])\n",
    "                    for j in range(self.num_tasks)\n",
    "                ]\n",
    "            ),\n",
    "        )\n",
    "\n",
    "    def forward(self, x):\n",
    "        if self.task < 0:\n",
    "            # Superimposed forward pass\n",
    "            alpha_weights = self.alphas[: self.num_tasks_learned]\n",
    "            idxs = (alpha_weights > 0).squeeze().view(self.num_tasks_learned)\n",
    "            if len(idxs.shape) == 0:\n",
    "                idxs = idxs.view(1)\n",
    "            subnet = (\n",
    "                alpha_weights[idxs]\n",
    "                * self.stacked[: self.num_tasks_learned][idxs]\n",
    "            ).sum(dim=0)\n",
    "        else:\n",
    "            # Subnet forward pass (given task info in self.task)\n",
    "            subnet = GetSubnet.apply(self.scores[self.task])\n",
    "        w = self.weight * subnet\n",
    "        x = F.linear(x, w, self.bias)\n",
    "        return x\n",
    "\n",
    "\n",
    "    def __repr__(self):\n",
    "        return f\"MultitaskMaskLinear({self.in_dims}, {self.out_dims})\""
   ]
  },
  {
   "cell_type": "code",
   "execution_count": 3,
   "metadata": {},
   "outputs": [],
   "source": [
    "# Utility functions\n",
    "def set_model_task(model, task, verbose=True):\n",
    "    for n, m in model.named_modules():\n",
    "        if isinstance(m, MultitaskMaskLinear):\n",
    "            if verbose:\n",
    "                print(f\"=> Set task of {n} to {task}\")\n",
    "            m.task = task\n",
    "\n",
    "def cache_masks(model):\n",
    "    for n, m in model.named_modules():\n",
    "        if isinstance(m, MultitaskMaskLinear):\n",
    "            print(f\"=> Caching mask state for {n}\")\n",
    "            m.cache_masks()\n",
    "\n",
    "def set_num_tasks_learned(model, num_tasks_learned):\n",
    "    for n, m in model.named_modules():\n",
    "        if isinstance(m, MultitaskMaskLinear):\n",
    "            print(f\"=> Setting learned tasks of {n} to {num_tasks_learned}\")\n",
    "            m.num_tasks_learned = num_tasks_learned\n",
    "\n",
    "def set_alphas(model, alphas, verbose=True):\n",
    "    for n, m in model.named_modules():\n",
    "        if isinstance(m, MultitaskMaskLinear):\n",
    "            if verbose:\n",
    "                print(f\"=> Setting alphas for {n}\")\n",
    "            m.alphas = alphas"
   ]
  },
  {
   "cell_type": "markdown",
   "metadata": {},
   "source": [
    "## Model\n",
    "\n",
    "For simplicity we use a simple 3-layer fully connected neural network. Note that you can make any neural by replacing a standard layer with its corresponding mask layer."
   ]
  },
  {
   "cell_type": "code",
   "execution_count": 21,
   "metadata": {},
   "outputs": [],
   "source": [
    "# Multitask Model, a simple fully connected model in this case\n",
    "class MultitaskFC(nn.Module):\n",
    "    def __init__(self, hidden_size, num_tasks):\n",
    "        super().__init__()\n",
    "        self.model = nn.Sequential(\n",
    "            MultitaskMaskLinear(\n",
    "                784,\n",
    "                hidden_size,\n",
    "                num_tasks=num_tasks,\n",
    "                bias=False\n",
    "            ),\n",
    "            nn.ReLU(),\n",
    "            MultitaskMaskLinear(\n",
    "                hidden_size,\n",
    "                hidden_size,\n",
    "                num_tasks=num_tasks,\n",
    "                bias=False\n",
    "            ),\n",
    "            nn.ReLU(),\n",
    "            MultitaskMaskLinear(\n",
    "                hidden_size,\n",
    "                100,\n",
    "                num_tasks=num_tasks,\n",
    "                bias=False\n",
    "            )\n",
    "        )\n",
    "    \n",
    "    def forward(self, x):\n",
    "        return self.model(x.flatten(1))"
   ]
  },
  {
   "cell_type": "markdown",
   "metadata": {},
   "source": [
    "## Dataset \n",
    "\n",
    "Our \"base\" dataset is MNIST. Each task is a random permutation of the pixels of MNIST. Namely, given a dataset $\\{(x_i, y_i)\\}_i$ for each task $t$, we take a random permutation $S^t\\in S_{784}$ and construct a dataset $\\{(S^t(x_i), y_i)\\}_i$. \n",
    "\n",
    "Below we show this process and an example of a particular task. `MNISTPerm` uses an update task method to generate a particular sub-task. To assure these splits are reproducible, `MNISTPerm` takes a `seed` argument. In our paper we evaluate on seeds 0 through 4."
   ]
  },
  {
   "cell_type": "code",
   "execution_count": 5,
   "metadata": {},
   "outputs": [
    {
     "data": {
      "image/png": "[encoded data removed]",
      "text/plain": [
       "<PIL.Image.Image image mode=RGB size=493x269 at 0x12920C050>"
      ]
     },
     "execution_count": 5,
     "metadata": {},
     "output_type": "execute_result"
    }
   ],
   "source": [
    "class MNISTPerm:\n",
    "    class permute(object):\n",
    "        def __call__(self, tensor):\n",
    "            out = tensor.flatten()\n",
    "            out = out[self.perm]\n",
    "            return out.view(1, 28, 28)\n",
    "\n",
    "        def __repr__(self):\n",
    "            return self.__class__.__name__\n",
    "\n",
    "    def __init__(self, seed=0):\n",
    "        super(MNISTPerm, self).__init__()\n",
    "        \n",
    "        data_root = \"mnist\"\n",
    "        self.permuter = self.permute()\n",
    "        self.seed = seed\n",
    "        train_dataset = torchvision.datasets.MNIST(\n",
    "            data_root,\n",
    "            train=True,\n",
    "            download=True,\n",
    "            transform=torchvision.transforms.Compose(\n",
    "                [\n",
    "                    torchvision.transforms.ToTensor(),\n",
    "                    torchvision.transforms.Normalize((0.1307,), (0.3081,)),\n",
    "                    self.permuter,\n",
    "                ]\n",
    "            ),\n",
    "        )\n",
    "\n",
    "        # Data loading code\n",
    "        self.train_loader = torch.utils.data.DataLoader(\n",
    "            train_dataset, batch_size=128, shuffle=True\n",
    "        )\n",
    "        self.val_loader = torch.utils.data.DataLoader(\n",
    "            torchvision.datasets.MNIST(\n",
    "                data_root,\n",
    "                train=False,\n",
    "                transform=torchvision.transforms.Compose(\n",
    "                    [\n",
    "                        torchvision.transforms.ToTensor(),\n",
    "                        torchvision.transforms.Normalize((0.1307,), (0.3081,)),\n",
    "                        self.permuter,\n",
    "                    ]\n",
    "                ),\n",
    "            ),\n",
    "            batch_size=128,\n",
    "            shuffle=False,\n",
    "        )\n",
    "\n",
    "    def update_task(self, i):\n",
    "        np.random.seed(i + self.seed)\n",
    "        self.permuter.__setattr__(\"perm\", np.random.permutation(784))\n",
    "    \n",
    "    def unpermute(self):\n",
    "        self.permuter.__setattr__(\"perm\", np.arange(784))\n",
    "\n",
    "mnist = MNISTPerm()\n",
    "\n",
    "# Showing some example images from MNISTPerm\n",
    "mnist.unpermute()\n",
    "batch, labels = next(iter(mnist.val_loader))\n",
    "\n",
    "mnist.update_task(0)\n",
    "task0, labels = next(iter(mnist.val_loader))\n",
    "\n",
    "torchvision.transforms.ToPILImage()(\n",
    "    torchvision.utils.make_grid(\n",
    "        torch.cat([batch, task0], dim=-1)[:64],\n",
    "        normalize=True,\n",
    "        padding=5,\n",
    "        pad_value=0.2\n",
    "    )\n",
    ")"
   ]
  },
  {
   "cell_type": "markdown",
   "metadata": {},
   "source": [
    "### Simple train and evaluation loops for classification"
   ]
  },
  {
   "cell_type": "code",
   "execution_count": 6,
   "metadata": {},
   "outputs": [],
   "source": [
    "# Finding supermasks per task\n",
    "\n",
    "def train(model, trainloader, optimizer, epoch):\n",
    "    model.train()\n",
    "\n",
    "    criterion = nn.CrossEntropyLoss()\n",
    "    num_correct = 0\n",
    "    total_seen = 0\n",
    "    for i, (batch, labels) in tqdm(\n",
    "        enumerate(trainloader),\n",
    "        ascii=True,\n",
    "        total=len(trainloader)\n",
    "    ):\n",
    "        logits = model(batch)\n",
    "        loss = criterion(logits, labels)\n",
    "\n",
    "        optimizer.zero_grad()\n",
    "        loss.backward()\n",
    "        optimizer.step()\n",
    "\n",
    "        if i % 20 == 0:\n",
    "            predictions = logits.argmax(dim=-1)\n",
    "            num_correct += (predictions == labels).float().sum()\n",
    "            total_seen += logits.size(0) \n",
    "            tqdm.write(\n",
    "                (f\"e{epoch} {i+1}/{len(trainloader)}\"\n",
    "                f\" => Loss {loss.item():0.4f}, \"\n",
    "                f\"Acc@1 {(num_correct / total_seen):0.4f}\"),\n",
    "                end=\"\\r\"\n",
    "            )\n",
    "\n",
    "\n",
    "@torch.no_grad()\n",
    "def evaluate(model, val_loader, epoch):\n",
    "    model.eval()\n",
    "    num_correct = 0\n",
    "    total_seen = 0\n",
    "    for batch, labels in tqdm(\n",
    "        val_loader,\n",
    "        ascii=True,\n",
    "        total=len(val_loader)\n",
    "    ):\n",
    "        logits = model(batch)\n",
    "        predictions = logits.argmax(dim=-1)\n",
    "        num_correct += (predictions == labels).float().sum()\n",
    "        total_seen += logits.size(0) \n",
    "    \n",
    "\n",
    "    tqdm.write(\n",
    "        f\"Val Perf after {epoch + 1} epochs \"\n",
    "        f\"Acc@1 {(num_correct / total_seen):0.4f}\", \n",
    "    )\n",
    "    return num_correct / total_seen\n",
    "\n"
   ]
  },
  {
   "cell_type": "markdown",
   "metadata": {},
   "source": [
    "For any scenario where task ID is given during train time, we simply train each supermask independently, one per task. We make use of our utility function `set_model_task` to do this. We use 5 tasks for demonstration purposes. Feel free to increase `num_tasks` in the following cell. In our paper we use as many as 2500 tasks with no drop in performance for either task inference or validation accuracy."
   ]
  },
  {
   "cell_type": "code",
   "execution_count": 22,
   "metadata": {},
   "outputs": [
    {
     "name": "stdout",
     "output_type": "stream",
     "text": [
      "Training for task 0\n",
      "=> Set task of model.0 to 0\n",
      "=> Set task of model.2 to 0\n",
      "=> Set task of model.4 to 0\n"
     ]
    },
    {
     "data": {
      "application/vnd.jupyter.widget-view+json": {
       "model_id": "23880cbff80a456397c9605c4c80d4ff",
       "version_major": 2,
       "version_minor": 0
      },
      "text/plain": [
       "HBox(children=(IntProgress(value=0, max=469), HTML(value='')))"
      ]
     },
     "metadata": {},
     "output_type": "display_data"
    },
    {
     "name": "stdout",
     "output_type": "stream",
     "text": [
      "e0 461/469 => Loss 0.2461, Acc@1 0.8532\n",
      "Validation\n",
      "============\n"
     ]
    },
    {
     "data": {
      "application/vnd.jupyter.widget-view+json": {
       "model_id": "477a36924af643aaa3413f0f9c0c6414",
       "version_major": 2,
       "version_minor": 0
      },
      "text/plain": [
       "HBox(children=(IntProgress(value=0, max=79), HTML(value='')))"
      ]
     },
     "metadata": {},
     "output_type": "display_data"
    },
    {
     "name": "stdout",
     "output_type": "stream",
     "text": [
      "\n",
      "\r",
      "\r",
      "\r",
      "Val Perf after 1 epochs Acc@1 0.9191\n",
      "=> Caching mask state for model.0\n",
      "=> Caching mask state for model.2\n",
      "=> Caching mask state for model.4\n",
      "\n",
      "=> Setting learned tasks of model.0 to 1\n",
      "=> Setting learned tasks of model.2 to 1\n",
      "=> Setting learned tasks of model.4 to 1\n",
      "\n",
      "Training for task 1\n",
      "=> Set task of model.0 to 1\n",
      "=> Set task of model.2 to 1\n",
      "=> Set task of model.4 to 1\n"
     ]
    },
    {
     "data": {
      "application/vnd.jupyter.widget-view+json": {
       "model_id": "cfeccf293cd2471584f384d2b1fcb6c0",
       "version_major": 2,
       "version_minor": 0
      },
      "text/plain": [
       "HBox(children=(IntProgress(value=0, max=469), HTML(value='')))"
      ]
     },
     "metadata": {},
     "output_type": "display_data"
    },
    {
     "name": "stdout",
     "output_type": "stream",
     "text": [
      "e0 461/469 => Loss 0.2363, Acc@1 0.8506\n",
      "Validation\n",
      "============\n"
     ]
    },
    {
     "data": {
      "application/vnd.jupyter.widget-view+json": {
       "model_id": "032a38fd2ad849d2a1531d679990a122",
       "version_major": 2,
       "version_minor": 0
      },
      "text/plain": [
       "HBox(children=(IntProgress(value=0, max=79), HTML(value='')))"
      ]
     },
     "metadata": {},
     "output_type": "display_data"
    },
    {
     "name": "stdout",
     "output_type": "stream",
     "text": [
      "\n",
      "\r",
      "\r",
      "\r",
      "Val Perf after 1 epochs Acc@1 0.9292\n",
      "=> Caching mask state for model.0\n",
      "=> Caching mask state for model.2\n",
      "=> Caching mask state for model.4\n",
      "\n",
      "=> Setting learned tasks of model.0 to 2\n",
      "=> Setting learned tasks of model.2 to 2\n",
      "=> Setting learned tasks of model.4 to 2\n",
      "\n",
      "Training for task 2\n",
      "=> Set task of model.0 to 2\n",
      "=> Set task of model.2 to 2\n",
      "=> Set task of model.4 to 2\n"
     ]
    },
    {
     "data": {
      "application/vnd.jupyter.widget-view+json": {
       "model_id": "76563244f8cb4e1a9e6019287310539a",
       "version_major": 2,
       "version_minor": 0
      },
      "text/plain": [
       "HBox(children=(IntProgress(value=0, max=469), HTML(value='')))"
      ]
     },
     "metadata": {},
     "output_type": "display_data"
    },
    {
     "name": "stdout",
     "output_type": "stream",
     "text": [
      "e0 461/469 => Loss 0.2814, Acc@1 0.8574\n",
      "Validation\n",
      "============\n"
     ]
    },
    {
     "data": {
      "application/vnd.jupyter.widget-view+json": {
       "model_id": "b7a97a706e2843f8b7b861b5b5e1187b",
       "version_major": 2,
       "version_minor": 0
      },
      "text/plain": [
       "HBox(children=(IntProgress(value=0, max=79), HTML(value='')))"
      ]
     },
     "metadata": {},
     "output_type": "display_data"
    },
    {
     "name": "stdout",
     "output_type": "stream",
     "text": [
      "\n",
      "\r",
      "\r",
      "\r",
      "Val Perf after 1 epochs Acc@1 0.9225\n",
      "=> Caching mask state for model.0\n",
      "=> Caching mask state for model.2\n",
      "=> Caching mask state for model.4\n",
      "\n",
      "=> Setting learned tasks of model.0 to 3\n",
      "=> Setting learned tasks of model.2 to 3\n",
      "=> Setting learned tasks of model.4 to 3\n",
      "\n",
      "Training for task 3\n",
      "=> Set task of model.0 to 3\n",
      "=> Set task of model.2 to 3\n",
      "=> Set task of model.4 to 3\n"
     ]
    },
    {
     "data": {
      "application/vnd.jupyter.widget-view+json": {
       "model_id": "3ecb30db53374429a569aeb307756013",
       "version_major": 2,
       "version_minor": 0
      },
      "text/plain": [
       "HBox(children=(IntProgress(value=0, max=469), HTML(value='')))"
      ]
     },
     "metadata": {},
     "output_type": "display_data"
    },
    {
     "name": "stdout",
     "output_type": "stream",
     "text": [
      "e0 461/469 => Loss 0.2601, Acc@1 0.8496\n",
      "Validation\n",
      "============\n"
     ]
    },
    {
     "data": {
      "application/vnd.jupyter.widget-view+json": {
       "model_id": "a522435738654c99b6019c840c580c3c",
       "version_major": 2,
       "version_minor": 0
      },
      "text/plain": [
       "HBox(children=(IntProgress(value=0, max=79), HTML(value='')))"
      ]
     },
     "metadata": {},
     "output_type": "display_data"
    },
    {
     "name": "stdout",
     "output_type": "stream",
     "text": [
      "\n",
      "\r",
      "\r",
      "\r",
      "Val Perf after 1 epochs Acc@1 0.9207\n",
      "=> Caching mask state for model.0\n",
      "=> Caching mask state for model.2\n",
      "=> Caching mask state for model.4\n",
      "\n",
      "=> Setting learned tasks of model.0 to 4\n",
      "=> Setting learned tasks of model.2 to 4\n",
      "=> Setting learned tasks of model.4 to 4\n",
      "\n",
      "Training for task 4\n",
      "=> Set task of model.0 to 4\n",
      "=> Set task of model.2 to 4\n",
      "=> Set task of model.4 to 4\n"
     ]
    },
    {
     "data": {
      "application/vnd.jupyter.widget-view+json": {
       "model_id": "5ee9eb79699a485a935e518f0b0b2bdc",
       "version_major": 2,
       "version_minor": 0
      },
      "text/plain": [
       "HBox(children=(IntProgress(value=0, max=469), HTML(value='')))"
      ]
     },
     "metadata": {},
     "output_type": "display_data"
    },
    {
     "name": "stdout",
     "output_type": "stream",
     "text": [
      "e0 461/469 => Loss 0.2476, Acc@1 0.8669\n",
      "Validation\n",
      "============\n"
     ]
    },
    {
     "data": {
      "application/vnd.jupyter.widget-view+json": {
       "model_id": "67b4290da216426bb5b419efe487efef",
       "version_major": 2,
       "version_minor": 0
      },
      "text/plain": [
       "HBox(children=(IntProgress(value=0, max=79), HTML(value='')))"
      ]
     },
     "metadata": {},
     "output_type": "display_data"
    },
    {
     "name": "stdout",
     "output_type": "stream",
     "text": [
      "\n",
      "\r",
      "\r",
      "\r",
      "Val Perf after 1 epochs Acc@1 0.9269\n",
      "=> Caching mask state for model.0\n",
      "=> Caching mask state for model.2\n",
      "=> Caching mask state for model.4\n",
      "\n",
      "=> Setting learned tasks of model.0 to 5\n",
      "=> Setting learned tasks of model.2 to 5\n",
      "=> Setting learned tasks of model.4 to 5\n",
      "\n"
     ]
    }
   ],
   "source": [
    "# Task ID given during train time\n",
    "from IPython.display import clear_output\n",
    "\n",
    "num_tasks = 5 # For demonstration purposes, we go up to 2500 in our paper\n",
    "model = MultitaskFC(hidden_size=300, num_tasks=num_tasks)\n",
    "\n",
    "for task in range(5):\n",
    "    print(f\"Training for task {task}\")\n",
    "    set_model_task(model, task)\n",
    "    mnist.update_task(task)\n",
    "\n",
    "    optimizer = optim.RMSprop([p for p in model.parameters() if p.requires_grad], lr=1e-4)\n",
    "    # Train for 1 epoch\n",
    "    for e in range(1):\n",
    "        train(model, mnist.train_loader, optimizer, e)\n",
    "        \n",
    "        print(\"Validation\")\n",
    "        print(\"============\")\n",
    "        acc1 = evaluate(model, mnist.val_loader, e)\n",
    "        \n",
    "    \n",
    "    cache_masks(model)\n",
    "    print()\n",
    "    set_num_tasks_learned(model, task + 1)\n",
    "    print()"
   ]
  },
  {
   "cell_type": "markdown",
   "metadata": {},
   "source": [
    "## Inference"
   ]
  },
  {
   "cell_type": "markdown",
   "metadata": {},
   "source": [
    "### Scenario GG: Task ID is given at train time and inference time\n",
    "\n",
    "If task ID is given at inference time, we simply evaluate using the mask we have trained for that ID. This procedure is shown below."
   ]
  },
  {
   "cell_type": "code",
   "execution_count": 27,
   "metadata": {},
   "outputs": [
    {
     "name": "stdout",
     "output_type": "stream",
     "text": [
      "=> Average top 1 performance: 0.9237\n",
      "Per task performance\n",
      "Task 0: 0.9191\n",
      "Task 1: 0.9292\n",
      "Task 2: 0.9225\n",
      "Task 3: 0.9207\n",
      "Task 4: 0.9269\n"
     ]
    }
   ],
   "source": [
    "# When task ID we can simply set the mask and evaluate\n",
    "\n",
    "gg_performance = []\n",
    "for task in range(5):\n",
    "    set_model_task(model, task)\n",
    "    mnist.update_task(task)\n",
    "    acc1 = evaluate(model, mnist.val_loader, 0)\n",
    "    gg_performance.append(acc1.item())\n",
    "\n",
    "clear_output()\n",
    "    \n",
    "print(f\"Average top 1 performance: {(sum(gg_performance) / len(gg_performance)):.4f}\")\n",
    "\n",
    "print(\"Per task performance\")\n",
    "for t in range(5):\n",
    "    print(f\"Task {t}: {gg_performance[t]:.4f}\")"
   ]
  },
  {
   "cell_type": "markdown",
   "metadata": {},
   "source": [
    "### Scenario GNs: Task ID is given at train time but not inference time\n",
    "\n",
    "We can infer task identity at inference time for arbitrary pieces of data. Here we use the one-shot algorithm described in the paper for simplicity. In short, we assign each learned supermask $M^i$ a weight $\\alpha_i$ such that $\\sum_{i} \\alpha_i = 1$ and $\\alpha_i >= 0$. \n",
    "\n",
    "Given an example data point $x$ to classify, we can compute our loss as $H = \\mathcal{H}\\left(f\\left(x, \\theta \\odot \\left(\\sum_i \\alpha_i M^i\\right)\\right)\\right)$ where $f(x, \\theta)$ is our neural network which outputs logits and $\\mathcal H$ is our entropy function. From here our inferred task is simply \n",
    "$$t = \\text{argmin}_i \\frac{\\partial\\mathcal{H}}{\\partial \\alpha_i}.$$\n",
    "\n",
    "#### Intuition\n",
    "\n",
    "We can see entropy as a measure of confidence in our prediction. High entropy prediction distributions are very uncertain (close to uniform) and lowest entropy is reached when our distribution is very certain (at a one hot vector). So it stands to reason that supermasks which haven't been trained on the exemplar data will have high entropy. Further, instead of showing each individual supermask $x$, which would be computationally intractible for many tasks, we can show $x$ to a _superposition_ of supermasks and optimize for superposition coefficients $\\alpha_i$. Choosing the smallest $\\alpha_i$ for our task is essentially greedily moving in the direction of maximal decrease in entropy. \n",
    "\n",
    "Below is a simple implementation of oneshot task inference."
   ]
  },
  {
   "cell_type": "code",
   "execution_count": 12,
   "metadata": {},
   "outputs": [],
   "source": [
    "# When task info is not provided we can infer it\n",
    "# here we use the oneshot task inference alg detailed in the paper\n",
    "\n",
    "def oneshot_task_inference(model, batch, num_tasks):\n",
    "    # Set task < 0 for inference mode\n",
    "    set_model_task(model, -1, verbose=False)\n",
    "    \n",
    "    # Initialize alphas to uniform\n",
    "    alphas = torch.ones(num_tasks, 1, 1) / num_tasks\n",
    "    alphas.requires_grad_(True)\n",
    "    set_alphas(model, alphas, verbose=False)\n",
    "    \n",
    "    logits = model(batch)\n",
    "    \n",
    "    # Entropy of logits\n",
    "    entropy = -(logits.softmax(dim=1) * logits.log_softmax(dim=1)).sum(1).mean()\n",
    "    \n",
    "    # Gradient wrt alphas\n",
    "    g, = autograd.grad(entropy, alphas)\n",
    "    \n",
    "    inferred_task = (-g).squeeze().argmax()\n",
    "\n",
    "    return inferred_task.item()"
   ]
  },
  {
   "cell_type": "markdown",
   "metadata": {},
   "source": [
    "#### Task inference accuracy\n",
    "\n",
    "Below we show how accurate task inference is using our oneshot algorithm. If you would like to evaluate on more tasks (we use 5 for demonstration), just modify the `num_tasks` variable in the cell where we declare `MultitaskFC`. \n",
    "\n",
    "Here we evaluate task inference on 50 random images per task (the `trials` variable modifies this number) and show we predict the correct task with 100% accuracy. "
   ]
  },
  {
   "cell_type": "code",
   "execution_count": 30,
   "metadata": {},
   "outputs": [
    {
     "data": {
      "application/vnd.jupyter.widget-view+json": {
       "model_id": "81b88a0a96654e2b9a2750ee9716d372",
       "version_major": 2,
       "version_minor": 0
      },
      "text/plain": [
       "HBox(children=(IntProgress(value=0, max=50), HTML(value='')))"
      ]
     },
     "metadata": {},
     "output_type": "display_data"
    },
    {
     "name": "stdout",
     "output_type": "stream",
     "text": [
      "\n",
      "Task inference accuracy: 100.0%\n"
     ]
    }
   ],
   "source": [
    "# How many examples to show for task inference\n",
    "num_examples = 1\n",
    "trials = 50\n",
    "num_correct = 0\n",
    "num_seen = 0\n",
    "for _ in tqdm(range(trials)):\n",
    "    for task in range(5):\n",
    "        mnist.update_task(task)\n",
    "        inferred_task = oneshot_task_inference(\n",
    "            model,\n",
    "            batch=next(iter(mnist.val_loader))[0][:num_examples],\n",
    "            num_tasks=5\n",
    "        )\n",
    "        if inferred_task == task:\n",
    "            num_correct += 1\n",
    "        num_seen += 1\n",
    "\n",
    "print(f\"Task inference accuracy: {100 * num_correct / num_seen}%\")"
   ]
  },
  {
   "cell_type": "markdown",
   "metadata": {},
   "source": [
    "#### Full inference procedure\n",
    "\n",
    "Below is an example of how this could be used in an inference pipeline. In this scenario, we use one random image from the validation set to infer task identity $t$ and then evaluate with the appropriate mask $M^t$ on all tasks. We see that there is no drop in performance from the GG scenario. \n",
    "\n",
    "Note that for simplicity this is a small deviation from the evaluation setup in our paper. In our paper we use 1 image per batch to determine the task identity of the batch, and evaluate that batch using the inferred task. So task inference needs to be correct more often to match GG performance. We have already shown task inference accuracy is 100% with high probability in the previous cell so we don't need to do that here. "
   ]
  },
  {
   "cell_type": "code",
   "execution_count": 31,
   "metadata": {},
   "outputs": [
    {
     "name": "stdout",
     "output_type": "stream",
     "text": [
      "=> Average top 1 performance: 92.3680%\n",
      "=> Difference from GG performance: 0.0000\n"
     ]
    }
   ],
   "source": [
    "# Evaluation\n",
    "\n",
    "num_examples = 1\n",
    "\n",
    "# After task inference, we just perform the same evaluation procedure as before\n",
    "gns_performance = []\n",
    "for task in range(5):\n",
    "    mnist.update_task(task)\n",
    "    inferred_task = oneshot_task_inference(\n",
    "        model,\n",
    "        batch=next(iter(mnist.val_loader))[0][:num_examples],\n",
    "        num_tasks=5\n",
    "    )\n",
    "    set_model_task(model, inferred_task)\n",
    "    acc1 = evaluate(model, mnist.val_loader, 0)\n",
    "    gns_performance.append(acc1.item())\n",
    "\n",
    "clear_output()\n",
    "avg_acc = (sum(gns_performance) / len(gns_performance))\n",
    "print(f\"=> Average top 1 performance: {100*avg_acc:.4f}%\")\n",
    "print(f\"=> Difference from GG performance: \"\n",
    "      f\"{(sum(gg_performance) / len(gg_performance) - avg_acc):.4f}\")"
   ]
  },
  {
   "cell_type": "code",
   "execution_count": 19,
   "metadata": {},
   "outputs": [
    {
     "name": "stdout",
     "output_type": "stream",
     "text": [
      "1.5.1\n"
     ]
    }
   ],
   "source": [
    "print(torch.__version__)"
   ]
  },
  {
   "cell_type": "code",
   "execution_count": null,
   "metadata": {},
   "outputs": [],
   "source": []
  }
 ],
 "metadata": {
  "@webio": {
   "lastCommId": null,
   "lastKernelId": null
  },
  "kernelspec": {
   "display_name": "Python 3.7.4 64-bit ('prod': conda)",
   "language": "python",
   "name": "python37464bitprodconda17a3b0496aba4b76979106d5b5ac87cd"
  },
  "language_info": {
   "codemirror_mode": {
    "name": "ipython",
    "version": 3
   },
   "file_extension": ".py",
   "mimetype": "text/x-python",
   "name": "python",
   "nbconvert_exporter": "python",
   "pygments_lexer": "ipython3",
   "version": "3.7.4"
  }
 },
 "nbformat": 4,
 "nbformat_minor": 2
}
